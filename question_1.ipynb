{
 "cells": [
  {
   "cell_type": "markdown",
   "id": "c4df1a0e",
   "metadata": {},
   "source": [
    "# 1Question"
   ]
  },
  {
   "cell_type": "code",
   "execution_count": null,
   "id": "afe81e76",
   "metadata": {},
   "outputs": [],
   "source": [
    "class solution:\n",
    "    def ask(self,input_string):\n",
    "        s=input_string.split()\n",
    "        wf=[s.count(i) for i in s]\n",
    "        k=(dict(zip(s,wf)))\n",
    "        m=(max(zip(k.values(),k.keys())))[1]\n",
    "        return len(m)\n",
    "input_string ='write write write all the number from from from 1 to 100'\n",
    "k=solution() \n",
    "k.ask(input_string)"
   ]
  }
 ],
 "metadata": {
  "kernelspec": {
   "display_name": "Python 3 (ipykernel)",
   "language": "python",
   "name": "python3"
  },
  "language_info": {
   "codemirror_mode": {
    "name": "ipython",
    "version": 3
   },
   "file_extension": ".py",
   "mimetype": "text/x-python",
   "name": "python",
   "nbconvert_exporter": "python",
   "pygments_lexer": "ipython3",
   "version": "3.9.7"
  }
 },
 "nbformat": 4,
 "nbformat_minor": 5
}
