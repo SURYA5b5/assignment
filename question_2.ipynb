{
 "cells": [
  {
   "cell_type": "code",
   "execution_count": 1,
   "id": "220e125f",
   "metadata": {},
   "outputs": [
    {
     "name": "stdout",
     "output_type": "stream",
     "text": [
      "YES\n"
     ]
    }
   ],
   "source": [
    "class solution:\n",
    "    def ask(self,string):\n",
    "        # string count \n",
    "        f=[string.count(k) for k in string]\n",
    "        #save as a dictinory\n",
    "        s=(dict(zip(string,f)))\n",
    "        #remove duplicates\n",
    "        k=set(s.values())\n",
    "        return k\n",
    "\n",
    "#string ='aaabbd'\n",
    "string ='abcdef'\n",
    "s=solution()\n",
    "s.ask(string)\n",
    "if len(s.ask(string))==1:\n",
    "    print(\"YES\")\n",
    "else:\n",
    "    print(\"NO\")"
   ]
  },
  {
   "cell_type": "code",
   "execution_count": null,
   "id": "f07045c0",
   "metadata": {},
   "outputs": [],
   "source": []
  }
 ],
 "metadata": {
  "kernelspec": {
   "display_name": "Python 3 (ipykernel)",
   "language": "python",
   "name": "python3"
  },
  "language_info": {
   "codemirror_mode": {
    "name": "ipython",
    "version": 3
   },
   "file_extension": ".py",
   "mimetype": "text/x-python",
   "name": "python",
   "nbconvert_exporter": "python",
   "pygments_lexer": "ipython3",
   "version": "3.9.7"
  }
 },
 "nbformat": 4,
 "nbformat_minor": 5
}
